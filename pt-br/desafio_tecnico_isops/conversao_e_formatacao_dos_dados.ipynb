{
 "cells": [
  {
   "cell_type": "code",
   "execution_count": null,
   "id": "81fec210-7240-4c3d-a2fe-af2b604228b8",
   "metadata": {},
   "outputs": [],
   "source": [
    "# Importar a biblioteca Pandas e declarar o caminho para o arquivo Dados_Candidatos para dar início ao processo de ETL.\n",
    "import pandas as pd\n",
    "\n",
    "# Insira o caminho para o arquivo Dados_Candidatos.xlsx. (Ex: D:\\Desafio_ISOps\\Dados_Candidatos.xlsx)\n",
    "CAMINHO_PARA_O_ARQUIVO_DADOS_CANDIDATOS = ''\n",
    "\n",
    "# 1. Leitura e configuração de alguns parâmetros para evitar retornos de falso positivo ao realizar transformações nos dados.\n",
    "\n",
    "DADOS = pd.read_excel(CAMINHO_PARA_O_ARQUIVO_DADOS_CANDIDATOS)\n",
    "DADOS.is_copy = False\n",
    "pd.options.mode.chained_assignment = None"
   ]
  },
  {
   "cell_type": "code",
   "execution_count": null,
   "id": "169e5dc9-ceec-469d-bfa1-147128b70625",
   "metadata": {},
   "outputs": [],
   "source": [
    "# 2. Transposição das linhas Etapas em colunas distintas.\n",
    "\n",
    "dados_transpostos = DADOS.fillna(value=0).pivot_table(index=['ID_Candidato', 'Nome_Candidato', 'ID_Vaga', 'Nome_Vaga', \n",
    "                                                            'Data_Candidatura', 'Status', 'Motivo_Reprovação'],\n",
    "                                                             columns='Etapa',\n",
    "                                                             values='Data_Movimentacao',\n",
    "                                                             aggfunc='last').reset_index()"
   ]
  },
  {
   "cell_type": "code",
   "execution_count": null,
   "id": "17012ab9-c7f1-4812-ae89-c5a70b062922",
   "metadata": {},
   "outputs": [],
   "source": [
    "# 3. Filtrar as datas duplicadas para uma eventual união.\n",
    "\n",
    "'''\n",
    "    Criar uma coluna separada com a data de cadastro para selecionar o último valor e aplicar um merge na tabela principal.\n",
    "'''\n",
    "\n",
    "dados_cadastro = DADOS[DADOS['Etapa'] == 'Cadastro'][['ID_Candidato', 'Data_Movimentacao']].rename(columns={'Data_Movimentacao': 'Cadastro'})\n",
    "dados_transpostos = pd.merge(dados_transpostos, dados_cadastro, on='ID_Candidato', how='right')"
   ]
  },
  {
   "cell_type": "code",
   "execution_count": null,
   "id": "eacd091e-74cd-421e-a948-07d7841d6a48",
   "metadata": {},
   "outputs": [],
   "source": [
    "# 4. Agregar todos os valores da coluna criada para a coluna principal.\n",
    "\n",
    "dados_transpostos.loc[~dados_transpostos['Cadastro_x'].isin(dados_transpostos['Cadastro_y']), 'Cadastro_x'] = dados_transpostos['Cadastro_y']"
   ]
  },
  {
   "cell_type": "code",
   "execution_count": null,
   "id": "937317c0-7f9e-4a78-a8bd-d4d00e6bdff6",
   "metadata": {},
   "outputs": [],
   "source": [
    "# 5. Remoção de valores duplicados -> Renomeação da coluna Cadastro_x para seu valor original (Cadastro) -> Remoção de índices extras desnecessários.\n",
    "\n",
    "dados_transpostos = dados_transpostos.drop_duplicates(subset=['ID_Candidato'], keep='last'\n",
    "                                                   ).rename(columns={'Cadastro_x':'Cadastro'}\n",
    "                                                           ).drop(columns=['Cadastro_y']\n",
    "                                                                 ).reset_index(drop=True)"
   ]
  },
  {
   "cell_type": "code",
   "execution_count": null,
   "id": "146f4ff2-fdee-476b-8a70-8ca3256e4ac1",
   "metadata": {},
   "outputs": [],
   "source": [
    "# 6. Remapeamento das colunas (suposta ordem cronológica).\n",
    "\n",
    "colunas_ordenadas = ['ID_Candidato', 'Nome_Candidato', 'ID_Vaga', 'Nome_Vaga', 'Data_Candidatura', \n",
    "                     'Status', 'Cadastro', 'Triagem', 'Entrevista TA', 'Teste Técnico', \n",
    "                     'Entrevista RH', 'Entrevista Final', 'Oferta', 'Contratação', 'Motivo_Reprovação']\n",
    "\n",
    "dados_ordenados = dados_transpostos[colunas_ordenadas].reset_index(drop=True)"
   ]
  },
  {
   "cell_type": "code",
   "execution_count": null,
   "id": "01a9e2d3-f70e-4b1f-9b48-74ecfd3e8b4d",
   "metadata": {},
   "outputs": [],
   "source": [
    "'''\n",
    "7. Substituição dos 0 atribuidos na etapa 2 por valores nulos e \n",
    "formatação das colunas de data para atender ao critério estabelecido: Formatação ISO8601\n",
    "'''\n",
    "\n",
    "'''\n",
    "A função verificar_tipo_de_dado_da_celula é usada para verificar se o tipo de dado de dada célula de uma coluna específica\n",
    "está no formato datetime64[ns] (formato padrão do Excel para células do tipo Data).\n",
    "\n",
    "Possíveis resultados:\n",
    "Verdadeiro: O valor correto para atender ao critério de formatação ISO8601 é atribuido à célula.\n",
    "Falso: Um valor nulo (NA) é atribuido à célula.\n",
    "'''\n",
    "\n",
    "def verificar_tipo_de_dado_da_celula(valor_da_celula):\n",
    "    if pd.api.types.is_datetime64_any_dtype(valor_da_celula):\n",
    "        return pd.NA if pd.isna(valor_da_celula) else valor_da_celula.date()\n",
    "    else:\n",
    "        return valor_da_celula\n",
    "\n",
    "for coluna in dados_ordenados.columns[0:]:\n",
    "    dados_ordenados[coluna] = dados_ordenados[coluna].replace(0, pd.NA).apply(verificar_tipo_de_dado_da_celula)"
   ]
  },
  {
   "cell_type": "code",
   "execution_count": null,
   "id": "88205bc4-e526-4430-a8ee-79c41649363a",
   "metadata": {},
   "outputs": [],
   "source": [
    "# 8. Exportar o dataframe final para um arquivo CSV.\n",
    "\n",
    "dados_ordenados.to_csv('Dados Limpos e Estruturados.csv', index=False, encoding='utf-8-sig', date_format=\"%Y-%m-%d\")"
   ]
  }
 ],
 "metadata": {
  "kernelspec": {
   "display_name": "Python 3 (ipykernel)",
   "language": "python",
   "name": "python3"
  },
  "language_info": {
   "codemirror_mode": {
    "name": "ipython",
    "version": 3
   },
   "file_extension": ".py",
   "mimetype": "text/x-python",
   "name": "python",
   "nbconvert_exporter": "python",
   "pygments_lexer": "ipython3",
   "version": "3.11.5"
  }
 },
 "nbformat": 4,
 "nbformat_minor": 5
}
