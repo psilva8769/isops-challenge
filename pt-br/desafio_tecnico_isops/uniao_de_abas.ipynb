{
 "cells": [
  {
   "cell_type": "code",
   "execution_count": 1,
   "id": "db1bf10b-c39b-4651-bcd2-d5e1eecf1e98",
   "metadata": {},
   "outputs": [],
   "source": [
    "# 1. Configurações e preparações\n",
    "\n",
    "# Importação das bibliotecas que serão utilizadas\n",
    "import pandas as pd\n",
    "import openpyxl\n",
    "import os\n",
    "from pandas.io.formats import excel\n",
    "\n",
    "# Configurações para evitar formatação padrão dos cabeçalhos ao exportar o arquivo final e evitar também avisos de inconformidade de versão.\n",
    "excel.ExcelFormatter.header_style = None\n",
    "pd.set_option('chained_assignment', None)\n",
    "\n",
    "# Caminho fonte de onde o arquivo estiver localizado no sistema.\n",
    "# Ex: D:\\Desafio_ISOps\\Dados_consolidados.xlsx\n",
    "CAMINHO_PARA_O_ARQUIVO_DADOS_CONSOLIDADOS = ''  \n",
    "\n",
    "# Dataframes / Tabelas que serão utilizadas no processo\n",
    "DADOS_CONSOLIDADOS = pd.read_excel(CAMINHO_PARA_O_ARQUIVO_DADOS_CONSOLIDADOS, sheet_name=['Engenharia', 'Marketing', 'Sales'])\n",
    "dados_agregados = pd.DataFrame()"
   ]
  },
  {
   "cell_type": "code",
   "execution_count": 2,
   "id": "d3c7d886-20e3-47af-a828-b8fc24a2f403",
   "metadata": {},
   "outputs": [],
   "source": [
    "# 2. Agregar os dados em um(a) único Dataframe/Tabela\n",
    "\n",
    "'''\n",
    "Agrega os dados de todas as páginas num Dataframe. -- Um bom exemplo para entender como funciona na prática, \n",
    "                                                      poderia ser uma comparação de um merge/join usando SQL\n",
    "'''\n",
    "\n",
    "PAGINAS_PARA_UNIR = ['Engenharia', 'Marketing', 'Sales']\n",
    "\n",
    "dados_agregados = pd.concat([DADOS_CONSOLIDADOS[pagina] for pagina in PAGINAS_PARA_UNIR]\n",
    "                           ).reset_index(drop=True)"
   ]
  },
  {
   "cell_type": "code",
   "execution_count": 3,
   "id": "216767fa-6dc4-4ec3-a126-fbe9d3f19a7c",
   "metadata": {},
   "outputs": [],
   "source": [
    "# 3. Realizar transformações nas colunas que possuem os valores do tipo Data para padronização no formato ISO8601\n",
    "\n",
    "COLUNAS_PARA_FORMATAR_PARA_O_TIPO_DATA = ['Data_Candidatura', 'Data_Movimentacao']\n",
    "\n",
    "''' \n",
    "A função verificar_tipo_de_dado_da_celula é usada para verificar se o tipo de dado de dada célula de uma coluna específica\n",
    "está no formato datetime64[ns] (formato padrão do Excel para células do tipo Data).\n",
    "\n",
    "Possíveis resultados:\n",
    "Verdadeiro: O valor correto para atender ao critério de formatação ISO8601 é atribuido à célula.\n",
    "Falso: Um valor nulo (NA) é atribuido à célula.\n",
    "'''\n",
    "\n",
    "def verificar_tipo_de_dado_da_celula(celula):\n",
    "    if pd.api.types.is_datetime64_any_dtype(celula):\n",
    "        return pd.NA if pd.isna(celula) else celula.date()\n",
    "    else:\n",
    "        return celula\n",
    "\n",
    "for coluna in dados_agregados.columns[0:]:\n",
    "    dados_agregados[coluna] = dados_agregados[coluna].apply(verificar_tipo_de_dado_da_celula)"
   ]
  },
  {
   "cell_type": "code",
   "execution_count": 4,
   "id": "e6001595-03e1-4d06-9550-eaffdca0078e",
   "metadata": {},
   "outputs": [],
   "source": [
    "# 4. Reescrever o arquivo final, adicionando uma página titulada de 'Todos', contendo os dados de todas as outras páginas.\n",
    "\n",
    "with pd.ExcelWriter('Dados_Consolidados.xlsx', date_format='YYYY-MM-DD', engine='openpyxl', mode='a', if_sheet_exists = 'replace') as gravador:\n",
    "    dados_agregados.to_excel(gravador, index=False, sheet_name='União')"
   ]
  }
 ],
 "metadata": {
  "kernelspec": {
   "display_name": "Python 3 (ipykernel)",
   "language": "python",
   "name": "python3"
  },
  "language_info": {
   "codemirror_mode": {
    "name": "ipython",
    "version": 3
   },
   "file_extension": ".py",
   "mimetype": "text/x-python",
   "name": "python",
   "nbconvert_exporter": "python",
   "pygments_lexer": "ipython3",
   "version": "3.11.5"
  }
 },
 "nbformat": 4,
 "nbformat_minor": 5
}
