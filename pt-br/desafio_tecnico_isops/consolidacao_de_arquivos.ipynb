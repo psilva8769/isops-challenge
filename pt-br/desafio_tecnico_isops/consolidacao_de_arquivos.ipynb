{
 "cells": [
  {
   "cell_type": "code",
   "execution_count": null,
   "id": "77f060d0-86d7-47ae-aa6c-0ecda11ccfe8",
   "metadata": {},
   "outputs": [],
   "source": [
    "# 1. Configurações e preparações iniciais.\n",
    "\n",
    "# Bibliotecas importadas\n",
    "import pandas as pd\n",
    "import os\n",
    "import openpyxl\n",
    "from pandas.io.formats import excel\n",
    "from glob import glob\n",
    "\n",
    "# Estilização final para exportação do arquivo no formato padrão do Excel.\n",
    "pd.options.mode.chained_assignment = None\n",
    "excel.ExcelFormatter.header_style = None\n",
    "\n",
    "# IMPORTANTE!!! -- A SOLUÇÃO IMPLEMENTADA PRECISA QUE A PASTA EM QUE SE ENCONTRAM OS ARQUIVOS .xlsx NÃO TENHA NADA ALÉM DOS ARQUIVOS EM QUESTÃO!\n",
    "# NADA ALÉM DOS ARQUIVOS mês.xlsx DENTRO DA PASTA FONTE/DESTINO!!\n",
    "\n",
    "# Exemplo: D:\\Desafio_ISOps\\Pastas_com_Arquivos_Excel\n",
    "CAMINHO_PARA_OS_ARQUIVOS_A_SEREM_AGREGADOS = ''\n",
    "ARQUIVOS_FILTRADOS = glob(os.path.join(CAMINHO_PARA_OS_ARQUIVOS_A_SEREM_AGREGADOS, '*.xlsx'))\n",
    "# Filtra a busca apenas pelos arquivos com formato .xlsx.\n",
    "\n",
    "# Dataframe/Tabela que será utilizado para agregação.\n",
    "dados_consolidados = pd.DataFrame()\n",
    "dados_consolidados.copy = False\n",
    "\n",
    "# Lista temporária para realizar a agregação.\n",
    "dados_temp = []"
   ]
  },
  {
   "cell_type": "code",
   "execution_count": null,
   "id": "42e2fddd-5a7c-4f1e-b684-405443e1a69b",
   "metadata": {},
   "outputs": [],
   "source": [
    "# 2. Agregação dos dados de todos os arquivos XLSX dentro do caminho especificado em um unico arquivo.\n",
    "\n",
    "for ARQUIVO in ARQUIVOS_FILTRADOS:\n",
    "    dados = pd.read_excel(ARQUIVO, 'Página1')\n",
    "    dados_temp.append(dados)\n",
    "dados_consolidados = pd.concat(dados_temp, ignore_index=True)"
   ]
  },
  {
   "cell_type": "code",
   "execution_count": null,
   "id": "7567c86e-e242-4477-a3e1-238ed2aaf7e8",
   "metadata": {},
   "outputs": [],
   "source": [
    "# 3. Verificação dos tipos de dados de das células.\n",
    "\n",
    "'''\n",
    "A função verificar_tipo_de_dado_da_celula é usada para verificar se o tipo de dado de dada célula de uma coluna específica\n",
    "está no formato datetime64[ns] (formato padrão do Excel para células do tipo Data).\n",
    "\n",
    "Possíveis resultados:\n",
    "Verdadeiro: O valor correto para atender ao critério de formatação ISO8601 é atribuido à célula.\n",
    "Falso: Um valor nulo (NA) é atribuido à célula.\n",
    "'''\n",
    "\n",
    "def verificar_tipo_de_dado_da_celula(valor_da_celula):\n",
    "    if pd.api.types.is_datetime64_any_dtype(valor_da_celula):\n",
    "        return pd.NA if pd.isna(valor_da_celula) else valor_da_celula.date()\n",
    "    else:\n",
    "        if valor_da_celula == 0:\n",
    "            return pd.NA\n",
    "        else:\n",
    "            return valor_da_celula\n",
    "\n",
    "for coluna in dados_consolidados.columns[0:]:\n",
    "    dados_consolidados[coluna] = dados_consolidados[coluna].apply(verificar_tipo_de_dado_da_celula)"
   ]
  },
  {
   "cell_type": "code",
   "execution_count": null,
   "id": "f892170b-c304-4422-aba1-15d0fe5ff139",
   "metadata": {},
   "outputs": [],
   "source": [
    "# 4. Exportar a tabela final para um arquivo no formato .xlsx(Excel).\n",
    "\n",
    "dados_consolidados.to_excel('Dados Agregados.xlsx', sheet_name='Página1', index=False)"
   ]
  },
  {
   "cell_type": "code",
   "execution_count": null,
   "id": "857041a4-8c88-47b6-904e-a3695e9f850f",
   "metadata": {},
   "outputs": [],
   "source": []
  }
 ],
 "metadata": {
  "kernelspec": {
   "display_name": "Python 3 (ipykernel)",
   "language": "python",
   "name": "python3"
  },
  "language_info": {
   "codemirror_mode": {
    "name": "ipython",
    "version": 3
   },
   "file_extension": ".py",
   "mimetype": "text/x-python",
   "name": "python",
   "nbconvert_exporter": "python",
   "pygments_lexer": "ipython3",
   "version": "3.11.5"
  }
 },
 "nbformat": 4,
 "nbformat_minor": 5
}
