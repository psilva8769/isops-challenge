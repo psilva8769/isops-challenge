{
 "cells": [
  {
   "cell_type": "code",
   "execution_count": 1,
   "id": "db1bf10b-c39b-4651-bcd2-d5e1eecf1e98",
   "metadata": {},
   "outputs": [],
   "source": [
    "# 1. Settings and Preparations\n",
    "\n",
    "# Importing libraries that will be used\n",
    "import pandas as pd\n",
    "import openpyxl\n",
    "import os\n",
    "from pandas.io.formats import excel\n",
    "\n",
    "# Settings to avoid default header formatting when exporting the final file and to also prevent version non-compliance warnings.\n",
    "excel.ExcelFormatter.header_style = None\n",
    "pd.set_option('chained_assignment', None)\n",
    "\n",
    "# Source path where the file is located in the system.\n",
    "# Example: D:\\Desafio_ISOps\\Dados_consolidados.xlsx\n",
    "PATH_TO_CONSOLIDATED_DATA_FILE = ''  \n",
    "\n",
    "# Dataframes / Tables that will be used in the process\n",
    "CONSOLIDATED_DATA = pd.read_excel(PATH_TO_CONSOLIDATED_DATA_FILE, sheet_name=['Engenharia', 'Marketing', 'Sales'])\n",
    "aggregated_data = pd.DataFrame()"
   ]
  },
  {
   "cell_type": "code",
   "execution_count": 2,
   "id": "d3c7d886-20e3-47af-a828-b8fc24a2f403",
   "metadata": {},
   "outputs": [],
   "source": [
    "# 2. Aggregate the data into a single Dataframe/Table\n",
    "\n",
    "'''\n",
    "Aggregates data from all sheets into one Dataframe. -- A good example to understand how it works in practice,\n",
    "                                                      could be a comparison to a merge/join using SQL\n",
    "'''\n",
    "\n",
    "PAGES_TO_MERGE = ['Engenharia', 'Marketing', 'Sales']\n",
    "\n",
    "aggregated_data = pd.concat([CONSOLIDATED_DATA[page] for page in PAGES_TO_MERGE]\n",
    "                           ).reset_index(drop=True)"
   ]
  },
  {
   "cell_type": "code",
   "execution_count": 3,
   "id": "216767fa-6dc4-4ec3-a126-fbe9d3f19a7c",
   "metadata": {},
   "outputs": [],
   "source": [
    "# 3. Perform transformations on columns with date type values to standardize them in the ISO8601 format\n",
    "\n",
    "COLUMNS_TO_FORMAT_AS_DATE = ['Data_Candidatura', 'Data_Movimentacao']\n",
    "\n",
    "''' \n",
    "The function check_cell_data_type is used to verify if the data type of a given cell in a specific column\n",
    "is in the datetime64[ns] format (the standard Excel format for Date type cells).\n",
    "\n",
    "Possible outcomes:\n",
    "True: The correct value to meet the ISO8601 formatting criterion is assigned to the cell.\n",
    "False: A null value (NA) is assigned to the cell.\n",
    "'''\n",
    "\n",
    "def check_cell_data_type(cell):\n",
    "    if pd.api.types.is_datetime64_any_dtype(cell):\n",
    "        return pd.NA if pd.isna(cell) else cell.date()\n",
    "    else:\n",
    "        return cell\n",
    "\n",
    "for column in aggregated_data.columns[0:]:\n",
    "    aggregated_data[column] = aggregated_data[column].apply(check_cell_data_type)"
   ]
  },
  {
   "cell_type": "code",
   "execution_count": 4,
   "id": "e6001595-03e1-4d06-9550-eaffdca0078e",
   "metadata": {},
   "outputs": [],
   "source": [
    "# 4. Rewrite the final file, adding a sheet titled 'Todos', containing data from all other sheets.\n",
    "\n",
    "with pd.ExcelWriter('Dados_Consolidados.xlsx', date_format='YYYY-MM-DD', engine='openpyxl', mode='a', if_sheet_exists = 'replace') as writer:\n",
    "    aggregated_data.to_excel(writer, index=False, sheet_name='União')"
   ]
  }
 ],
 "metadata": {
  "kernelspec": {
   "display_name": "Python 3 (ipykernel)",
   "language": "python",
   "name": "python3"
  },
  "language_info": {
   "codemirror_mode": {
    "name": "ipython",
    "version": 3
   },
   "file_extension": ".py",
   "mimetype": "text/x-python",
   "name": "python",
   "nbconvert_exporter": "python",
   "pygments_lexer": "ipython3",
   "version": "3.11.5"
  }
 },
 "nbformat": 4,
 "nbformat_minor": 5
}
