{
 "cells": [
  {
   "cell_type": "code",
   "execution_count": null,
   "id": "77f060d0-86d7-47ae-aa6c-0ecda11ccfe8",
   "metadata": {},
   "outputs": [],
   "source": [
    "# 1. Initial settings and preparations.\n",
    "\n",
    "# Imported libraries\n",
    "import pandas as pd\n",
    "import os\n",
    "import openpyxl\n",
    "from pandas.io.formats import excel\n",
    "from glob import glob\n",
    "\n",
    "# Final styling for exporting the file in the standard Excel format.\n",
    "pd.options.mode.chained_assignment = None\n",
    "excel.ExcelFormatter.header_style = None\n",
    "\n",
    "# IMPORTANT!!! -- THE IMPLEMENTED SOLUTION REQUIRES THAT THE FOLDER WHERE THE .xlsx FILES ARE LOCATED HAS NOTHING BUT THE FILES IN QUESTION!\n",
    "# NOTHING BUT THE month.xlsx FILES WITHIN THE SOURCE/DESTINATION FOLDER!!\n",
    "\n",
    "# Example: D:\\Desafio_ISOps\\Folders_with_Excel_Files\n",
    "PATH_TO_THE_FILES_TO_BE_AGGREGATED = ''\n",
    "FILTERED_FILES = glob(os.path.join(PATH_TO_THE_FILES_TO_BE_AGGREGATED, '*.xlsx'))\n",
    "# Filters the search only for files with the .xlsx format.\n",
    "\n",
    "# Dataframe/Table that will be used for aggregation.\n",
    "consolidated_data = pd.DataFrame()\n",
    "consolidated_data.copy = False\n",
    "\n",
    "# Temporary list to perform the aggregation.\n",
    "temp_data = []\n"
   ]
  },
  {
   "cell_type": "code",
   "execution_count": null,
   "id": "42e2fddd-5a7c-4f1e-b684-405443e1a69b",
   "metadata": {},
   "outputs": [],
   "source": [
    "# 2. Aggregation of data from all XLSX files within the specified path into a single file.\n",
    "\n",
    "for FILE in FILTERED_FILES:\n",
    "    data = pd.read_excel(FILE, 'Página1')\n",
    "    temp_data.append(data)\n",
    "consolidated_data = pd.concat(temp_data, ignore_index=True)"
   ]
  },
  {
   "cell_type": "code",
   "execution_count": null,
   "id": "7567c86e-e242-4477-a3e1-238ed2aaf7e8",
   "metadata": {},
   "outputs": [],
   "source": [
    "# 3. Checking the data types of the cells.\n",
    "\n",
    "'''\n",
    "The check_cell_data_type function is used to verify if the data type of a given cell in a specific column\n",
    "is in the datetime64[ns] format (the standard Excel format for Date type cells).\n",
    "\n",
    "Possible outcomes:\n",
    "True: The correct value to meet the ISO8601 formatting criterion is assigned to the cell.\n",
    "False: A null (NA) value is assigned to the cell.\n",
    "'''\n",
    "\n",
    "def check_cell_data_type(cell_value):\n",
    "    if pd.api.types.is_datetime64_any_dtype(cell_value):\n",
    "        return pd.NA if pd.isna(cell_value) else cell_value.date()\n",
    "    else:\n",
    "        if cell_value == 0:\n",
    "            return pd.NA\n",
    "        else:\n",
    "            return cell_value\n",
    "\n",
    "for column in consolidated_data.columns[0:]:\n",
    "    consolidated_data[column] = consolidated_data[column].apply(check_cell_data_type)"
   ]
  },
  {
   "cell_type": "code",
   "execution_count": null,
   "id": "f892170b-c304-4422-aba1-15d0fe5ff139",
   "metadata": {},
   "outputs": [],
   "source": [
    "# 4. Export the final table to a file in .xlsx (Excel) format.\n",
    "\n",
    "consolidated_data.to_excel('Aggregated Data.xlsx', sheet_name='Page1', index=False)"
   ]
  }
 ],
 "metadata": {
  "kernelspec": {
   "display_name": "Python 3 (ipykernel)",
   "language": "python",
   "name": "python3"
  },
  "language_info": {
   "codemirror_mode": {
    "name": "ipython",
    "version": 3
   },
   "file_extension": ".py",
   "mimetype": "text/x-python",
   "name": "python",
   "nbconvert_exporter": "python",
   "pygments_lexer": "ipython3",
   "version": "3.11.5"
  }
 },
 "nbformat": 4,
 "nbformat_minor": 5
}
